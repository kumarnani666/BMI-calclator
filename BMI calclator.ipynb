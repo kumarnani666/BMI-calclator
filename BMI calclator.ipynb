{
 "cells": [
  {
   "cell_type": "code",
   "execution_count": null,
   "id": "b2edb5ec-0888-4193-8a0e-10d7928180ca",
   "metadata": {},
   "outputs": [],
   "source": []
  },
  {
   "cell_type": "code",
   "execution_count": 2,
   "id": "278b91e1-1e91-4407-89e8-fc35834d1600",
   "metadata": {},
   "outputs": [
    {
     "name": "stdin",
     "output_type": "stream",
     "text": [
      "enter your name:  kumar\n",
      "enter your weight:  45\n",
      "enter your height:  5\n"
     ]
    },
    {
     "name": "stdout",
     "output_type": "stream",
     "text": [
      "1265.4\n",
      "kumar,you are morbidly obese.\n"
     ]
    }
   ],
   "source": [
    "name = input(\"enter your name: \")\n",
    "weight = int(input(\"enter your weight: \"))\n",
    "height = int(input(\"enter your height: \"))\n",
    "\n",
    "BMI = (weight * 703)/ (height * height)\n",
    "print(BMI)\n",
    "\n",
    "if BMI>0:\n",
    "    if(BMI<18.5):\n",
    "        print(name +\", you are underwight.\")\n",
    "    elif(BMI<=24.9):\n",
    "        print(name +\", you are a normal weight.\")\n",
    "    elif(BMI<=29.9):\n",
    "        print(name +\", you are overweight.\")\n",
    "    elif(BMI<=34.9):\n",
    "        print(name +\",you are obese.\")\n",
    "    elif(BMI<=39.9):\n",
    "        print(name +\", you are several obese.\")\n",
    "    else:\n",
    "        print(name +\",you are morbidly obese.\")\n",
    "else:\n",
    "    print(\"enter a valid input\") "
   ]
  },
  {
   "cell_type": "code",
   "execution_count": null,
   "id": "388d9def-69be-49b2-a747-6a813f3c7f12",
   "metadata": {},
   "outputs": [],
   "source": []
  },
  {
   "cell_type": "code",
   "execution_count": null,
   "id": "2069653c-9506-4ff6-94d0-b3e738812e18",
   "metadata": {},
   "outputs": [],
   "source": []
  },
  {
   "cell_type": "code",
   "execution_count": null,
   "id": "132668ad-415b-45e4-ae6f-1ebe04326fca",
   "metadata": {},
   "outputs": [],
   "source": []
  },
  {
   "cell_type": "code",
   "execution_count": null,
   "id": "e5fb6254-5f8f-4e98-be84-f44630ab5399",
   "metadata": {},
   "outputs": [],
   "source": []
  },
  {
   "cell_type": "code",
   "execution_count": null,
   "id": "94aff0d7-e753-4d74-bdfa-7164cb6adbe2",
   "metadata": {},
   "outputs": [],
   "source": []
  }
 ],
 "metadata": {
  "kernelspec": {
   "display_name": "Python 3 (ipykernel)",
   "language": "python",
   "name": "python3"
  },
  "language_info": {
   "codemirror_mode": {
    "name": "ipython",
    "version": 3
   },
   "file_extension": ".py",
   "mimetype": "text/x-python",
   "name": "python",
   "nbconvert_exporter": "python",
   "pygments_lexer": "ipython3",
   "version": "3.12.4"
  }
 },
 "nbformat": 4,
 "nbformat_minor": 5
}
